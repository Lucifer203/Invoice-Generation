{
 "cells": [
  {
   "cell_type": "code",
   "execution_count": 1,
   "metadata": {},
   "outputs": [
    {
     "name": "stderr",
     "output_type": "stream",
     "text": [
      "/home/lucifer/Documents/Invoice_Generation/myvenv/lib/python3.12/site-packages/tqdm/auto.py:21: TqdmWarning: IProgress not found. Please update jupyter and ipywidgets. See https://ipywidgets.readthedocs.io/en/stable/user_install.html\n",
      "  from .autonotebook import tqdm as notebook_tqdm\n"
     ]
    }
   ],
   "source": [
    "from datasets import load_dataset\n",
    "\n",
    "ds = load_dataset(\"katanaml-org/invoices-donut-data-v1\")"
   ]
  },
  {
   "cell_type": "code",
   "execution_count": 5,
   "metadata": {},
   "outputs": [
    {
     "data": {
      "text/plain": [
       "'{\"gt_parse\": {\"header\": {\"invoice_no\": \"40378170\", \"invoice_date\": \"10/15/2012\", \"seller\": \"Patel, Thompson and Montgomery 356 Kyle Vista New James, MA 46228\", \"client\": \"Jackson, Odonnell and Jackson 267 John Track Suite 841 Jenniferville, PA 98601\", \"seller_tax_id\": \"958-74-3511\", \"client_tax_id\": \"998-87-7723\", \"iban\": \"GB77WRBQ31965128414006\"}, \"items\": [{\"item_desc\": \"Leed\\'s Wine Companion Bottle Corkscrew Opener Gift Box Set with Foil Cutter\", \"item_qty\": \"1,00\", \"item_net_price\": \"7,50\", \"item_net_worth\": \"7,50\", \"item_vat\": \"10%\", \"item_gross_worth\": \"8,25\"}], \"summary\": {\"total_net_worth\": \"$7,50\", \"total_vat\": \"$0,75\", \"total_gross_worth\": \"$8,25\"}}}'"
      ]
     },
     "execution_count": 5,
     "metadata": {},
     "output_type": "execute_result"
    }
   ],
   "source": [
    "ds['train'][0]['ground_truth']"
   ]
  },
  {
   "cell_type": "code",
   "execution_count": 2,
   "metadata": {},
   "outputs": [],
   "source": [
    "img2 = ds['test'][5]['image']\n",
    "img2.save(\"test_image_5.png\")"
   ]
  },
  {
   "cell_type": "code",
   "execution_count": 3,
   "metadata": {},
   "outputs": [],
   "source": [
    "img2 = ds['test'][8]['image']\n",
    "img2.save(\"test_image_8.png\")"
   ]
  },
  {
   "cell_type": "code",
   "execution_count": 2,
   "metadata": {},
   "outputs": [
    {
     "name": "stdout",
     "output_type": "stream",
     "text": [
      "Executable: /home/lucifer/Documents/Invoice_Generation/myvenv/bin/python\n",
      "Python version: 3.12.3 (main, Jun 18 2025, 17:59:45) [GCC 13.3.0]\n",
      "Platform: Linux-6.14.0-24-generic-x86_64-with-glibc2.39\n",
      "Pillow present in working interpreter?: True\n"
     ]
    },
    {
     "name": "stderr",
     "output_type": "stream",
     "text": [
      "/tmp/ipykernel_4724/613248888.py:6: DeprecationWarning: 'pkgutil.find_loader' is deprecated and slated for removal in Python 3.14; use importlib.util.find_spec() instead\n",
      "  print(\"Pillow present in working interpreter?:\", pkgutil.find_loader(\"PIL\") is not None)\n"
     ]
    }
   ],
   "source": [
    "import sys, site, platform\n",
    "print(\"Executable:\", sys.executable)\n",
    "print(\"Python version:\", sys.version)\n",
    "print(\"Platform:\", platform.platform())\n",
    "import pkgutil\n",
    "print(\"Pillow present in working interpreter?:\", pkgutil.find_loader(\"PIL\") is not None)\n"
   ]
  },
  {
   "cell_type": "code",
   "execution_count": 3,
   "metadata": {},
   "outputs": [],
   "source": [
    "# ds['train'][0]['img']"
   ]
  },
  {
   "cell_type": "code",
   "execution_count": 4,
   "metadata": {},
   "outputs": [],
   "source": [
    "schema_dict = {\n",
    "    \"header\": {\n",
    "        \"invoice_no\": \"Invoice number of the document\",\n",
    "        \"invoice_date\": \"Date when the invoice was issued\",\n",
    "        \"seller\": \"Full address and name of the seller\",\n",
    "        \"client\": \"Full address and name of the client\",\n",
    "        \"seller_tax_id\": \"Tax identification number of the seller\",\n",
    "        \"client_tax_id\": \"Tax identification number of the client\",\n",
    "        \"iban\": \"Bank IBAN number of the seller\"\n",
    "    },\n",
    "    \"items\": [\n",
    "        {\n",
    "            \"item_desc\": \"Description of the service or product sold\",\n",
    "            \"item_qty\": \"Quantity of the item (usually in units or pieces)\",\n",
    "            \"item_net_price\": \"Unit price excluding VAT\",\n",
    "            \"item_net_worth\": \"Total price excluding VAT\",\n",
    "            \"item_vat\": \"VAT rate applied to this item\",\n",
    "            \"item_gross_worth\": \"Total price including VAT\"\n",
    "        }\n",
    "    ],\n",
    "    \"summary\": {\n",
    "        \"total_net_worth\": \"Total net amount before VAT\",\n",
    "        \"total_vat\": \"Total VAT amount\",\n",
    "        \"total_gross_worth\": \"Final total amount including VAT\"\n",
    "    }\n",
    "}"
   ]
  },
  {
   "cell_type": "code",
   "execution_count": 5,
   "metadata": {},
   "outputs": [],
   "source": [
    "import json\n",
    "instruction = f\"\"\"You are a specialized in invoice and your role is to extract information from any invoice that is provided to you in the following valid json format. if the corresponding value is not present, leave the key with empty string.\n",
    "\n",
    "{json.dumps(schema_dict)}\n",
    "\n",
    "Fill the keys only when the information is available.\n",
    "\"\"\""
   ]
  },
  {
   "cell_type": "code",
   "execution_count": 6,
   "metadata": {},
   "outputs": [
    {
     "data": {
      "text/plain": [
       "'You are a specialized in invoice and your role is to extract information from any invoice that is provided to you in the following valid json format. if the corresponding value is not present, leave the key with empty string.\\n\\n{\"header\": {\"invoice_no\": \"Invoice number of the document\", \"invoice_date\": \"Date when the invoice was issued\", \"seller\": \"Full address and name of the seller\", \"client\": \"Full address and name of the client\", \"seller_tax_id\": \"Tax identification number of the seller\", \"client_tax_id\": \"Tax identification number of the client\", \"iban\": \"Bank IBAN number of the seller\"}, \"items\": [{\"item_desc\": \"Description of the service or product sold\", \"item_qty\": \"Quantity of the item (usually in units or pieces)\", \"item_net_price\": \"Unit price excluding VAT\", \"item_net_worth\": \"Total price excluding VAT\", \"item_vat\": \"VAT rate applied to this item\", \"item_gross_worth\": \"Total price including VAT\"}], \"summary\": {\"total_net_worth\": \"Total net amount before VAT\", \"total_vat\": \"Total VAT amount\", \"total_gross_worth\": \"Final total amount including VAT\"}}\\n\\nFill the keys only when the information is available.\\n'"
      ]
     },
     "execution_count": 6,
     "metadata": {},
     "output_type": "execute_result"
    }
   ],
   "source": [
    "instruction"
   ]
  },
  {
   "cell_type": "code",
   "execution_count": 7,
   "metadata": {},
   "outputs": [
    {
     "data": {
      "text/plain": [
       "True"
      ]
     },
     "execution_count": 7,
     "metadata": {},
     "output_type": "execute_result"
    }
   ],
   "source": [
    "from dotenv import load_dotenv\n",
    "load_dotenv('/home/lucifer/Documents/Invoice_Generation/.env')"
   ]
  },
  {
   "cell_type": "code",
   "execution_count": 8,
   "metadata": {},
   "outputs": [],
   "source": [
    "import os \n",
    "\n",
    "HUGGINGFACE_TOKEN = os.getenv(\"HUGGINGFACE_TOKEN\")"
   ]
  },
  {
   "cell_type": "code",
   "execution_count": 9,
   "metadata": {},
   "outputs": [],
   "source": [
    "from huggingface_hub import login \n",
    "\n",
    "login(token=HUGGINGFACE_TOKEN)"
   ]
  },
  {
   "cell_type": "code",
   "execution_count": 10,
   "metadata": {},
   "outputs": [],
   "source": [
    "from transformers import Qwen2_5_VLForConditionalGeneration, AutoProcessor\n",
    "from transformers import BitsAndBytesConfig"
   ]
  },
  {
   "cell_type": "code",
   "execution_count": 13,
   "metadata": {},
   "outputs": [
    {
     "name": "stdout",
     "output_type": "stream",
     "text": [
      "Mon Jul 21 19:30:52 2025       \n",
      "+-----------------------------------------------------------------------------------------+\n",
      "| NVIDIA-SMI 575.57.08              Driver Version: 575.57.08      CUDA Version: 12.9     |\n",
      "|-----------------------------------------+------------------------+----------------------+\n",
      "| GPU  Name                 Persistence-M | Bus-Id          Disp.A | Volatile Uncorr. ECC |\n",
      "| Fan  Temp   Perf          Pwr:Usage/Cap |           Memory-Usage | GPU-Util  Compute M. |\n",
      "|                                         |                        |               MIG M. |\n",
      "|=========================================+========================+======================|\n",
      "|   0  NVIDIA GeForce RTX 3050 ...    On  |   00000000:01:00.0 Off |                  N/A |\n",
      "| N/A   55C    P8              7W /   60W |      18MiB /   4096MiB |      0%      Default |\n",
      "|                                         |                        |                  N/A |\n",
      "+-----------------------------------------+------------------------+----------------------+\n",
      "                                                                                         \n",
      "+-----------------------------------------------------------------------------------------+\n",
      "| Processes:                                                                              |\n",
      "|  GPU   GI   CI              PID   Type   Process name                        GPU Memory |\n",
      "|        ID   ID                                                               Usage      |\n",
      "|=========================================================================================|\n",
      "|    0   N/A  N/A            2609      G   /usr/lib/xorg/Xorg                        4MiB |\n",
      "+-----------------------------------------------------------------------------------------+\n"
     ]
    }
   ],
   "source": [
    "!nvidia-smi"
   ]
  },
  {
   "cell_type": "code",
   "execution_count": 14,
   "metadata": {},
   "outputs": [
    {
     "name": "stderr",
     "output_type": "stream",
     "text": [
      "Loading checkpoint shards: 100%|██████████| 2/2 [00:18<00:00,  9.07s/it]\n"
     ]
    }
   ],
   "source": [
    "model_id = \"Adarsh203/qwen-2.5-vl-3b-invoices\"\n",
    "\n",
    "quant_config = BitsAndBytesConfig(\n",
    "    load_in_4bit=True,\n",
    "    bnb_4bit_quant_type=\"nf4\",\n",
    "    bnb_4bit_use_double_quant=True,\n",
    "    bnb_4bit_compute_dtype=\"float16\",\n",
    ")\n",
    "\n",
    "model = Qwen2_5_VLForConditionalGeneration.from_pretrained(\n",
    "    model_id,\n",
    "    quantization_config=quant_config,\n",
    "    device_map=\"auto\")\n",
    "processor = AutoProcessor.from_pretrained(model_id,use_fast=True)"
   ]
  },
  {
   "cell_type": "code",
   "execution_count": 15,
   "metadata": {},
   "outputs": [
    {
     "name": "stdout",
     "output_type": "stream",
     "text": [
      "Mon Jul 21 19:35:29 2025       \n",
      "+-----------------------------------------------------------------------------------------+\n",
      "| NVIDIA-SMI 575.57.08              Driver Version: 575.57.08      CUDA Version: 12.9     |\n",
      "|-----------------------------------------+------------------------+----------------------+\n",
      "| GPU  Name                 Persistence-M | Bus-Id          Disp.A | Volatile Uncorr. ECC |\n",
      "| Fan  Temp   Perf          Pwr:Usage/Cap |           Memory-Usage | GPU-Util  Compute M. |\n",
      "|                                         |                        |               MIG M. |\n",
      "|=========================================+========================+======================|\n",
      "|   0  NVIDIA GeForce RTX 3050 ...    On  |   00000000:01:00.0 Off |                  N/A |\n",
      "| N/A   56C    P8              8W /   60W |    2635MiB /   4096MiB |      0%      Default |\n",
      "|                                         |                        |                  N/A |\n",
      "+-----------------------------------------+------------------------+----------------------+\n",
      "                                                                                         \n",
      "+-----------------------------------------------------------------------------------------+\n",
      "| Processes:                                                                              |\n",
      "|  GPU   GI   CI              PID   Type   Process name                        GPU Memory |\n",
      "|        ID   ID                                                               Usage      |\n",
      "|=========================================================================================|\n",
      "|    0   N/A  N/A            2609      G   /usr/lib/xorg/Xorg                        4MiB |\n",
      "|    0   N/A  N/A            4724      C   ..._Generation/myvenv/bin/python       2612MiB |\n",
      "+-----------------------------------------------------------------------------------------+\n"
     ]
    }
   ],
   "source": [
    "!nvidia-smi"
   ]
  },
  {
   "cell_type": "code",
   "execution_count": 17,
   "metadata": {},
   "outputs": [
    {
     "name": "stdout",
     "output_type": "stream",
     "text": [
      "* Running on local URL:  http://127.0.0.1:7860\n",
      "* Running on public URL: https://63b8de3f35e1491651.gradio.live\n",
      "\n",
      "This share link expires in 1 week. For free permanent hosting and GPU upgrades, run `gradio deploy` from the terminal in the working directory to deploy to Hugging Face Spaces (https://huggingface.co/spaces)\n"
     ]
    },
    {
     "data": {
      "text/html": [
       "<div><iframe src=\"https://63b8de3f35e1491651.gradio.live\" width=\"100%\" height=\"500\" allow=\"autoplay; camera; microphone; clipboard-read; clipboard-write;\" frameborder=\"0\" allowfullscreen></iframe></div>"
      ],
      "text/plain": [
       "<IPython.core.display.HTML object>"
      ]
     },
     "metadata": {},
     "output_type": "display_data"
    },
    {
     "data": {
      "text/plain": []
     },
     "execution_count": 17,
     "metadata": {},
     "output_type": "execute_result"
    }
   ],
   "source": [
    "import gradio as gr\n",
    "from PIL import Image\n",
    "import os\n",
    "import torch\n",
    "from transformers import Qwen2_5_VLForConditionalGeneration, AutoProcessor\n",
    "from qwen_vl_utils import process_vision_info\n",
    "import json\n",
    "\n",
    "# Default prompt\n",
    "instruction = f\"\"\"You are a specialized in invoice and your role is to extract information from any invoice that is provided to you in the following valid json format. if the corresponding value is not present, leave the key with empty string.\n",
    "\n",
    "{json.dumps(schema_dict)}\n",
    "\n",
    "Fill the keys only when the information is available.\n",
    "\"\"\"\n",
    "\n",
    "# Function to create messages\n",
    "def create_messages(image_path, prompt):\n",
    "    messages = [\n",
    "        {\n",
    "            \"role\": \"user\",\n",
    "            \"content\": [\n",
    "                {\n",
    "                    \"type\": \"image\",\n",
    "                    \"image\": image_path,\n",
    "                    \"resized_height\": 640,\n",
    "                    \"resized_width\": 640\n",
    "                },\n",
    "                {\"type\": \"text\", \"text\": prompt},\n",
    "            ],\n",
    "        }\n",
    "    ]\n",
    "    return messages\n",
    "\n",
    "# Inference logic\n",
    "def infer(messages):\n",
    "    text = processor.apply_chat_template(\n",
    "        messages, tokenize=False, add_generation_prompt=True\n",
    "    )\n",
    "    image_inputs, video_inputs = process_vision_info(messages)\n",
    "    inputs = processor(\n",
    "        text=[text],\n",
    "        images=image_inputs,\n",
    "        videos=video_inputs,\n",
    "        padding=True,\n",
    "        return_tensors=\"pt\",\n",
    "    )\n",
    "    inputs = inputs.to(model.device)\n",
    "\n",
    "    generated_ids = model.generate(**inputs, max_new_tokens=2048)\n",
    "    generated_ids_trimmed = [\n",
    "        out_ids[len(in_ids):] for in_ids, out_ids in zip(inputs.input_ids, generated_ids)\n",
    "    ]\n",
    "    output_text = processor.batch_decode(\n",
    "        generated_ids_trimmed, skip_special_tokens=True, clean_up_tokenization_spaces=False\n",
    "    )\n",
    "    return output_text[0]\n",
    "\n",
    "# Gradio handler\n",
    "def invoice_parser(image: Image.Image):\n",
    "    image_path = os.path.join(\"inference\", \"test_image.png\")\n",
    "    os.makedirs(\"inference\", exist_ok=True)\n",
    "    image.save(image_path)\n",
    "\n",
    "    messages = create_messages(image_path=image_path, prompt=instruction)\n",
    "    output = infer(messages)\n",
    "    return output\n",
    "\n",
    "def reset_fields():\n",
    "    return None, None\n",
    "\n",
    "# Gradio UI\n",
    "with gr.Blocks() as demo:\n",
    "    with gr.Row():\n",
    "        with gr.Column(scale=1):\n",
    "            gr.Markdown(\"### Upload Invoice\")\n",
    "            image_input = gr.Image(type=\"pil\", label=\"Invoice Image\")\n",
    "            submit_btn = gr.Button(\"Submit\")\n",
    "            reset_btn = gr.Button(\"Reset\")\n",
    "\n",
    "        with gr.Column(scale=1):\n",
    "            gr.Markdown(\"### Parsed Invoice Details\")\n",
    "            output_text = gr.Textbox(label=\"Extracted Data\", lines=10)\n",
    "\n",
    "    submit_btn.click(fn=invoice_parser, inputs=image_input, outputs=output_text)\n",
    "    reset_btn.click(fn=reset_fields, inputs=[], outputs=[image_input, output_text])\n",
    "\n",
    "demo.launch(share=True)\n"
   ]
  },
  {
   "cell_type": "code",
   "execution_count": 1,
   "metadata": {},
   "outputs": [],
   "source": [
    "import torch"
   ]
  },
  {
   "cell_type": "code",
   "execution_count": 18,
   "metadata": {},
   "outputs": [
    {
     "name": "stdout",
     "output_type": "stream",
     "text": [
      "Mon Jul 21 19:38:39 2025       \n",
      "+-----------------------------------------------------------------------------------------+\n",
      "| NVIDIA-SMI 575.57.08              Driver Version: 575.57.08      CUDA Version: 12.9     |\n",
      "|-----------------------------------------+------------------------+----------------------+\n",
      "| GPU  Name                 Persistence-M | Bus-Id          Disp.A | Volatile Uncorr. ECC |\n",
      "| Fan  Temp   Perf          Pwr:Usage/Cap |           Memory-Usage | GPU-Util  Compute M. |\n",
      "|                                         |                        |               MIG M. |\n",
      "|=========================================+========================+======================|\n",
      "|   0  NVIDIA GeForce RTX 3050 ...    On  |   00000000:01:00.0 Off |                  N/A |\n",
      "| N/A   59C    P8              8W /   60W |    2783MiB /   4096MiB |      0%      Default |\n",
      "|                                         |                        |                  N/A |\n",
      "+-----------------------------------------+------------------------+----------------------+\n",
      "                                                                                         \n",
      "+-----------------------------------------------------------------------------------------+\n",
      "| Processes:                                                                              |\n",
      "|  GPU   GI   CI              PID   Type   Process name                        GPU Memory |\n",
      "|        ID   ID                                                               Usage      |\n",
      "|=========================================================================================|\n",
      "|    0   N/A  N/A            2609      G   /usr/lib/xorg/Xorg                        4MiB |\n",
      "|    0   N/A  N/A            4724      C   ..._Generation/myvenv/bin/python       2760MiB |\n",
      "+-----------------------------------------------------------------------------------------+\n"
     ]
    },
    {
     "name": "stderr",
     "output_type": "stream",
     "text": [
      "huggingface/tokenizers: The current process just got forked, after parallelism has already been used. Disabling parallelism to avoid deadlocks...\n",
      "To disable this warning, you can either:\n",
      "\t- Avoid using `tokenizers` before the fork if possible\n",
      "\t- Explicitly set the environment variable TOKENIZERS_PARALLELISM=(true | false)\n"
     ]
    }
   ],
   "source": [
    "!nvidia-smi"
   ]
  },
  {
   "cell_type": "code",
   "execution_count": null,
   "metadata": {},
   "outputs": [],
   "source": []
  }
 ],
 "metadata": {
  "kernelspec": {
   "display_name": "myvenv",
   "language": "python",
   "name": "python3"
  },
  "language_info": {
   "codemirror_mode": {
    "name": "ipython",
    "version": 3
   },
   "file_extension": ".py",
   "mimetype": "text/x-python",
   "name": "python",
   "nbconvert_exporter": "python",
   "pygments_lexer": "ipython3",
   "version": "3.12.3"
  }
 },
 "nbformat": 4,
 "nbformat_minor": 2
}
